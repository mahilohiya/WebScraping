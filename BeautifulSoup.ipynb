{
  "nbformat": 4,
  "nbformat_minor": 0,
  "metadata": {
    "colab": {
      "provenance": [],
      "authorship_tag": "ABX9TyPsfEa+mhzzX3bEwu1hJxPG",
      "include_colab_link": true
    },
    "kernelspec": {
      "name": "python3",
      "display_name": "Python 3"
    },
    "language_info": {
      "name": "python"
    }
  },
  "cells": [
    {
      "cell_type": "markdown",
      "metadata": {
        "id": "view-in-github",
        "colab_type": "text"
      },
      "source": [
        "<a href=\"https://colab.research.google.com/github/mahilohiya/WebScraping/blob/main/BeautifulSoup.ipynb\" target=\"_parent\"><img src=\"https://colab.research.google.com/assets/colab-badge.svg\" alt=\"Open In Colab\"/></a>"
      ]
    },
    {
      "cell_type": "code",
      "execution_count": null,
      "metadata": {
        "id": "SgKuDhlVdvPC"
      },
      "outputs": [],
      "source": [
        "!pip install requests beautifulsoup4 pandas matplotlib"
      ]
    },
    {
      "cell_type": "code",
      "source": [
        "import requests\n",
        "from bs4 import BeautifulSoup\n",
        "import pandas as pd"
      ],
      "metadata": {
        "id": "u4VaImRGeja9"
      },
      "execution_count": null,
      "outputs": []
    },
    {
      "cell_type": "code",
      "source": [
        "url=\"https://www.timesjobs.com/candidate/job-search.html?searchType=personalizedSearch&from=submit&txtKeywords=python&txtLocation=\"\n",
        "response = requests.get(url)\n",
        "soup = BeautifulSoup(response.text, 'html.parser')"
      ],
      "metadata": {
        "id": "WNH38zk1ejrK"
      },
      "execution_count": null,
      "outputs": []
    },
    {
      "cell_type": "code",
      "source": [
        "jobs = soup.find_all('li', class_='clearfix job-bx wht-shd-bx')"
      ],
      "metadata": {
        "id": "3YV_EmtFgk06"
      },
      "execution_count": null,
      "outputs": []
    },
    {
      "cell_type": "markdown",
      "source": [
        "url=\"https://www.timesjobs.com/candidate/job-search.html?searchType=personalizedSearch&from=submit&txtKeywords=python&txtLocation=\"\n",
        "response = requests.get(url)\n",
        "soup = BeautifulSoup(response.txt, 'html.parser')"
      ],
      "metadata": {
        "id": "rZ5s-bEiez6v"
      }
    },
    {
      "cell_type": "code",
      "source": [
        "job_list = []\n",
        "for job in jobs:\n",
        "    title = job.find('h2').text.strip()\n",
        "    company = job.find('h3', class_='joblist-comp-name').text.strip()\n",
        "    skills_element = job.find('span', class_='srp-skills')\n",
        "    skills = skills_element.text.strip() if skills_element else 'N/A'\n",
        "    date_posted_element = job.find('span', class_='sim-posted')\n",
        "    date_posted = date_posted_element.text.strip() if date_posted_element else 'N/A'\n",
        "    link = job.header.h2.a['href']\n",
        "    job_list.append([title, company, skills, date_posted, link])"
      ],
      "metadata": {
        "id": "MkazImzbfyIk"
      },
      "execution_count": null,
      "outputs": []
    },
    {
      "cell_type": "code",
      "metadata": {
        "colab": {
          "base_uri": "https://localhost:8080/",
          "height": 1000
        },
        "id": "98a6beaf",
        "outputId": "3a86a72c-a3fd-48ff-fef5-137a33c86e44"
      },
      "source": [
        "display(job_list)"
      ],
      "execution_count": null,
      "outputs": [
        {
          "output_type": "display_data",
          "data": {
            "text/plain": [
              "[['Python Developer',\n",
              "  'acquiscent technologies pvt. ltd.',\n",
              "  'Not Mentioned',\n",
              "  'https://www.timesjobs.com/job-detail/python-developer-acquiscent-technologies-pvt-ltd-pune-1-to-5-yrs-jobid-ggWz1MWc4X9zpSvf__PLUS__uAgZw==&source=srp'],\n",
              " ['Python Developer',\n",
              "  'geekyworks',\n",
              "  'Not Mentioned',\n",
              "  'https://www.timesjobs.com/job-detail/python-developer-geekyworks-pune-2-to-3-yrs-jobid-HtQuUbJGOvJzpSvf__PLUS__uAgZw==&source=srp'],\n",
              " ['Python Developer',\n",
              "  'SEVEN CONSULTANCY',\n",
              "  'Not Mentioned',\n",
              "  'https://www.timesjobs.com/job-detail/python-developer-seven-consultancy-navi-mumbai-mumbai-4-to-7-yrs-jobid-VJ3GBkmUwLVzpSvf__PLUS__uAgZw==&source=srp'],\n",
              " ['Python Developer',\n",
              "  'realizer technologies',\n",
              "  'Not Mentioned',\n",
              "  'https://www.timesjobs.com/job-detail/python-developer-realizer-technologies-pune-0-to-3-yrs-jobid-F362LGN73BZzpSvf__PLUS__uAgZw==&source=srp'],\n",
              " ['Python Developer',\n",
              "  'virtusa consulting services pvt. ltd.',\n",
              "  'Not Mentioned',\n",
              "  'https://www.timesjobs.com/job-detail/python-developer-virtusa-consulting-services-pvt-ltd-dubai-2-to-4-yrs-jobid-h8Gl293odsJzpSvf__PLUS__uAgZw==&source=srp'],\n",
              " ['Python Developer',\n",
              "  'Infocom Software',\n",
              "  'Not Mentioned',\n",
              "  'https://www.timesjobs.com/job-detail/python-developer-infocom-software-thiruvananthapuram-0-to-3-yrs-jobid-eYbmnSesqoJzpSvf__PLUS__uAgZw==&source=srp'],\n",
              " ['Python Developer',\n",
              "  'NuageBiz.Tech',\n",
              "  'Not Mentioned',\n",
              "  'https://www.timesjobs.com/job-detail/python-developer-nuagebiz-tech-noida-greater-noida-2-to-5-yrs-jobid-ud__SLASH__oICdmaSpzpSvf__PLUS__uAgZw==&source=srp'],\n",
              " ['Python Developer',\n",
              "  'IQVIA',\n",
              "  'Not Mentioned',\n",
              "  'https://www.timesjobs.com/job-detail/python-developer-iqvia-bengaluru-bangalore-3-to-6-yrs-jobid-2DFKS0eGVfxzpSvf__PLUS__uAgZw==&source=srp'],\n",
              " ['Python Developer',\n",
              "  'pando',\n",
              "  'Not Mentioned',\n",
              "  'https://www.timesjobs.com/job-detail/python-developer-pando-chennai-2-to-3-yrs-jobid-x8EmV4TtsGtzpSvf__PLUS__uAgZw==&source=srp'],\n",
              " ['Python Developer',\n",
              "  'Trigyn Technologies Ltd',\n",
              "  'Not Mentioned',\n",
              "  'https://www.timesjobs.com/job-detail/python-developer-trigyn-technologies-ltd-delhi-3-to-6-yrs-jobid-xsjuia7bgaJzpSvf__PLUS__uAgZw==&source=srp'],\n",
              " ['Python Developer',\n",
              "  'Analytics Vidhya',\n",
              "  'Not Mentioned',\n",
              "  'https://www.timesjobs.com/job-detail/python-developer-analytics-vidhya-hyderabad-secunderabad-chennai-2-to-4-yrs-jobid-0bWt9YSDrX9zpSvf__PLUS__uAgZw==&source=srp'],\n",
              " ['Python Engineer',\n",
              "  'Analytics Vidhya',\n",
              "  'Not Mentioned',\n",
              "  'https://www.timesjobs.com/job-detail/python-engineer-analytics-vidhya-gurgaon-mumbai-bengaluru-bangalore-3-to-6-yrs-jobid-YLoLWcZiAj5zpSvf__PLUS__uAgZw==&source=srp'],\n",
              " ['Python Developer',\n",
              "  'Analytics Vidhya',\n",
              "  'Not Mentioned',\n",
              "  'https://www.timesjobs.com/job-detail/python-developer-analytics-vidhya-gurgaon-5-to-8-yrs-jobid-di4__SLASH__jinpKOJzpSvf__PLUS__uAgZw==&source=srp'],\n",
              " ['Python Developer',\n",
              "  'magnarus technologies private limited',\n",
              "  'Not Mentioned',\n",
              "  'https://www.timesjobs.com/job-detail/python-developer-magnarus-technologies-private-limited-hyderabad-secunderabad-1-to-3-yrs-jobid-T3pm9JegL4NzpSvf__PLUS__uAgZw==&source=srp'],\n",
              " ['Python Architect',\n",
              "  'Headhuntersinc consultancy Private Limited',\n",
              "  'Not Mentioned',\n",
              "  'https://www.timesjobs.com/job-detail/python-architect-headhuntersinc-consultancy-private-limited-chennai-10-to-13-yrs-jobid-pJTd8BeqARBzpSvf__PLUS__uAgZw==&source=srp'],\n",
              " ['Python Developer',\n",
              "  'zenga tv',\n",
              "  'Not Mentioned',\n",
              "  'https://www.timesjobs.com/job-detail/python-developer-zenga-tv-gurgaon-2-to-5-yrs-jobid-e__PLUS__ZLUFXUI59zpSvf__PLUS__uAgZw==&source=srp'],\n",
              " ['Python Developer',\n",
              "  'WBC Software Lab',\n",
              "  'Not Mentioned',\n",
              "  'https://www.timesjobs.com/job-detail/python-developer-wbc-software-lab-chennai-2-to-5-yrs-jobid-Qy1VutIzCqxzpSvf__PLUS__uAgZw==&source=srp'],\n",
              " ['Python QA',\n",
              "  'virtusa consulting services pvt. ltd.',\n",
              "  'Not Mentioned',\n",
              "  'https://www.timesjobs.com/job-detail/python-qa-virtusa-consulting-services-pvt-ltd-chennai-hyderabad-secunderabad-4-to-7-yrs-jobid-QokHYIQKl__PLUS__xzpSvf__PLUS__uAgZw==&source=srp'],\n",
              " ['Python Developer',\n",
              "  'Hotelogix',\n",
              "  'Not Mentioned',\n",
              "  'https://www.timesjobs.com/job-detail/python-developer-hotelogix-bengaluru-bangalore-3-to-5-yrs-jobid-LyGo9bMRUt9zpSvf__PLUS__uAgZw==&source=srp'],\n",
              " ['Python Developer',\n",
              "  'SYNECHRON',\n",
              "  'Not Mentioned',\n",
              "  'https://www.timesjobs.com/job-detail/python-developer-synechron-bengaluru-bangalore-1-to-6-yrs-jobid-DjpyPDQw90lzpSvf__PLUS__uAgZw==&source=srp'],\n",
              " ['PYTHON Developer',\n",
              "  'INFINITY GROUP',\n",
              "  'Not Mentioned',\n",
              "  'https://www.timesjobs.com/job-detail/python-developer-infinity-group-noida-greater-noida-2-to-5-yrs-jobid-WKzksjq__PLUS__GXxzpSvf__PLUS__uAgZw==&source=srp'],\n",
              " ['Python Developer',\n",
              "  'SEVEN CONSULTANCY',\n",
              "  'Not Mentioned',\n",
              "  'https://www.timesjobs.com/job-detail/python-developer-seven-consultancy-hyderabad-secunderabad-0-to-3-yrs-jobid-ATqt92bFMIxzpSvf__PLUS__uAgZw==&source=srp'],\n",
              " ['Python Developer',\n",
              "  'SYNECHRON',\n",
              "  'Not Mentioned',\n",
              "  'https://www.timesjobs.com/job-detail/python-developer-synechron-mumbai-5-to-8-yrs-jobid-hj2FdsxopxFzpSvf__PLUS__uAgZw==&source=srp'],\n",
              " ['Python Developer',\n",
              "  'SEVEN CONSULTANCY',\n",
              "  'Not Mentioned',\n",
              "  'https://www.timesjobs.com/job-detail/python-developer-seven-consultancy-chennai-1-to-4-yrs-jobid-3SbYNIu88OBzpSvf__PLUS__uAgZw==&source=srp'],\n",
              " ['Python Developer',\n",
              "  'IQVIA',\n",
              "  'Not Mentioned',\n",
              "  'https://www.timesjobs.com/job-detail/python-developer-iqvia-bengaluru-bangalore-2-to-4-yrs-jobid-3d8XhjSElDBzpSvf__PLUS__uAgZw==&source=srp']]"
            ]
          },
          "metadata": {}
        }
      ]
    },
    {
      "cell_type": "code",
      "source": [
        "df = pd.DataFrame(job_list, columns=['Title', 'Company', 'Skills', 'Link', 'date_posted'])\n",
        "df.to_csv(\"jobs.csv\", index=False)\n",
        "print(\"Scraped\", len(df), \"jobs and saved to jobs.csv\")"
      ],
      "metadata": {
        "colab": {
          "base_uri": "https://localhost:8080/"
        },
        "id": "tVkO8fQ3iFkm",
        "outputId": "28086a8d-9a90-40dd-a61b-45b8653f23b9"
      },
      "execution_count": null,
      "outputs": [
        {
          "output_type": "stream",
          "name": "stdout",
          "text": [
            "Scraped 25 jobs and saved to jobs.csv\n"
          ]
        }
      ]
    },
    {
      "cell_type": "code",
      "source": [
        "from collections import Counter\n",
        "all_skills =  \"\".join(df[\"Skills\"]).lower().replace(',', ' ').split()\n",
        "skill_counts = Counter(all_skills)\n",
        "print(\"Top 10 in-demand skills:\")\n",
        "print(skill_counts.most_common(10))"
      ],
      "metadata": {
        "colab": {
          "base_uri": "https://localhost:8080/"
        },
        "id": "B_LeHmrTik_y",
        "outputId": "23467bda-41e0-492e-e0ab-6437efe8339b"
      },
      "execution_count": null,
      "outputs": [
        {
          "output_type": "stream",
          "name": "stdout",
          "text": [
            "Top 10 in-demand skills:\n",
            "[('mentionednot', 24), ('not', 1), ('mentioned', 1)]\n"
          ]
        }
      ]
    },
    {
      "cell_type": "code",
      "source": [
        "import matplotlib.pyplot as plt\n",
        "\n",
        "skills, counts = zip(*skill_counts.most_common(10))\n",
        "plt.figure(figsize=(10,6))\n",
        "plt.bar(skills, counts)\n",
        "plt.title(\"Top 10 In-Demand Skills for Python Jobs\")\n",
        "plt.xlabel(\"Skill\")\n",
        "plt.ylabel(\"Frequency\")\n",
        "plt.xticks(rotation=45)\n",
        "plt.show()"
      ],
      "metadata": {
        "colab": {
          "base_uri": "https://localhost:8080/",
          "height": 629
        },
        "id": "ZfgR4kUWi1mW",
        "outputId": "eb5cb93d-5480-48e3-bdba-7040e2b01488"
      },
      "execution_count": null,
      "outputs": [
        {
          "output_type": "display_data",
          "data": {
            "text/plain": [
              "<Figure size 1000x600 with 1 Axes>"
            ],
            "image/png": "[encoded data removed]"
          },
          "metadata": {}
        }
      ]
    }
  ]
}